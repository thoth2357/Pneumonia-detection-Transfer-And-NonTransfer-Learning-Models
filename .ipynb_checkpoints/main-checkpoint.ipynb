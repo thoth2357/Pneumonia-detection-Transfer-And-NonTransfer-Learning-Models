{
 "cells": [
  {
   "cell_type": "code",
   "execution_count": null,
   "metadata": {},
   "outputs": [],
   "source": [
    "#importing neccessary modules\n",
    "import os\n",
    "import sys\n",
    "import math\n",
    "import numpy as np\n",
    "import glob\n",
    "import pydicom\n",
    "import matplotlib.pyplot as plt\n",
    "import tensorflow as tf\n",
    "import tensorflow_io as tfio\n",
    "from tensorflow.keras.preprocessing.image import ImageDataGenerator"
   ]
  },
  {
   "cell_type": "code",
   "execution_count": null,
   "metadata": {},
   "outputs": [],
   "source": [
    "#Define Directories for train, test & Validation Set\n",
    "train_dicom_images = os.path.join('Dataset','stage_2_train_images')\n",
    "test_dicom_images = os.path.join('Dataset','stage_2_test_images')"
   ]
  },
  {
   "cell_type": "code",
   "execution_count": null,
   "metadata": {},
   "outputs": [],
   "source": [
    "image_bytes = tf.io.read_file('/home/pirate/Documents/machine_learning/Pneumonia detection/Dataset/stage_2_train_images/0a0f91dc-6015-4342-b809-d19610854a21.dcm')\n",
    "\n",
    "image = tfio.image.decode_dicom_image(image_bytes, dtype=tf.uint16)\n",
    "\n",
    "skipped = tfio.image.decode_dicom_image(image_bytes, on_error='skip', dtype=tf.uint8)\n",
    "\n",
    "lossy_image = tfio.image.decode_dicom_image(image_bytes, scale='auto', on_error='lossy', dtype=tf.uint8)\n",
    "\n",
    "\n",
    "fig, axes = plt.subplots(1,2, figsize=(10,10))\n",
    "axes[0].imshow(np.squeeze(image.numpy()), cmap='gray')\n",
    "axes[0].set_title('image')\n",
    "axes[1].imshow(np.squeeze(lossy_image.numpy()), cmap='gray')\n",
    "axes[1].set_title('lossy image');"
   ]
  },
  {
   "cell_type": "markdown",
   "metadata": {},
   "source": [
    "Defining standard parameter for our CNN model\n",
    "batch size refers to the number of training examples utilized in one iteration.\n",
    "dimension size of the images refers to the dimension of the image we are going to be using.\n",
    "Note that the dimension size of 500 or more thatn 500 with batch size greater than 16 may result in a crash of the ram."
   ]
  },
  {
   "cell_type": "code",
   "execution_count": null,
   "metadata": {},
   "outputs": [],
   "source": [
    "batch_size = 16\n",
    "img_height = 500\n",
    "img_width = 500"
   ]
  }
 ],
 "metadata": {
  "interpreter": {
   "hash": "f9013e23377c4df86dc09c341e3e8e9dd81c02c4de203807e1a62a3a9bc38c81"
  },
  "kernelspec": {
   "display_name": "Python 3 (ipykernel)",
   "language": "python",
   "name": "python3"
  },
  "language_info": {
   "codemirror_mode": {
    "name": "ipython",
    "version": 3
   },
   "file_extension": ".py",
   "mimetype": "text/x-python",
   "name": "python",
   "nbconvert_exporter": "python",
   "pygments_lexer": "ipython3",
   "version": "3.9.7"
  }
 },
 "nbformat": 4,
 "nbformat_minor": 2
}
