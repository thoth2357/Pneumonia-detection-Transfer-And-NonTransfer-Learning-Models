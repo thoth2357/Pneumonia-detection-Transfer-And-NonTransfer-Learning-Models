{
 "cells": [
  {
   "cell_type": "code",
   "execution_count": 9,
   "metadata": {},
   "outputs": [],
   "source": [
    "#Importing modules\n",
    "import re\n",
    "import os \n",
    "import numpy as np\n",
    "import pandas as pd\n",
    "import seaborn as sns\n",
    "import tensorflow as tf\n",
    "import matplotlib.pyplot as plt\n",
    "import glob\n",
    "\n",
    "from tensorflow.keras.preprocessing.image import ImageDataGenerator, load_img\n",
    "\n",
    "\n"
   ]
  },
  {
   "cell_type": "code",
   "execution_count": 10,
   "metadata": {},
   "outputs": [
    {
     "name": "stdout",
     "output_type": "stream",
     "text": [
      "['/home/pirate/Documents/machine_learning/Pneumonia detection/Dataset/data-task1/train', '/home/pirate/Documents/machine_learning/Pneumonia detection/Dataset/data-task1/val', '/home/pirate/Documents/machine_learning/Pneumonia detection/Dataset/data-task1/test']\n"
     ]
    }
   ],
   "source": [
    "#DATA INFORMATION AND PATH\n",
    "\n",
    "# Root directory of the project\n",
    "BASE_DIR = os.path.abspath(\"./\")\n",
    "\n",
    "# Data directory of the project\n",
    "DATA_DIR =  os.path.join(BASE_DIR, \"Dataset/data-task1\")\n",
    "\n",
    "# dataset respective directory\n",
    "TRAIN_DIR = os.path.join(DATA_DIR, \"train\")\n",
    "TEST_DIR = os.path.join(DATA_DIR, \"test\")\n",
    "VAL_DIR = os.path.join(DATA_DIR, \"val\")\n",
    "\n",
    "# Summary of Data information\n",
    "#TODO TASK: 'Put summary of data information here later' .time:2022-04-22  13:43:01\n",
    "t = glob.glob(f'{DATA_DIR}/*')\n",
    "next(os.walk(t))[2][0]"
   ]
  },
  {
   "cell_type": "code",
   "execution_count": null,
   "metadata": {},
   "outputs": [],
   "source": [
    "#setting plot parameters for plt\n",
    "fig, ax = plt.subplots(2, 3, figsize=(15, 7))\n",
    "ax = ax.ravel()\n",
    "plt.tight_layout()\n",
    "\n",
    "#plotting random non-pneumonia and pneumonia images from our train, test, and val to see how much different they look to our eye\n",
    "for i, dir_ in glob.glob(f'{DATA_DIR}/*'):\n",
    "    ax[i].imshow(plt.imread(dir_))\n",
    "print(t)"
   ]
  }
 ],
 "metadata": {
  "interpreter": {
   "hash": "f9013e23377c4df86dc09c341e3e8e9dd81c02c4de203807e1a62a3a9bc38c81"
  },
  "kernelspec": {
   "display_name": "Python 3.9.7 ('base')",
   "language": "python",
   "name": "python3"
  },
  "language_info": {
   "codemirror_mode": {
    "name": "ipython",
    "version": 3
   },
   "file_extension": ".py",
   "mimetype": "text/x-python",
   "name": "python",
   "nbconvert_exporter": "python",
   "pygments_lexer": "ipython3",
   "version": "3.9.7"
  },
  "orig_nbformat": 4
 },
 "nbformat": 4,
 "nbformat_minor": 2
}
